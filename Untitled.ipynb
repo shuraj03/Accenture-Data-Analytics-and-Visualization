{
 "cells": [
  {
   "cell_type": "code",
   "execution_count": 8,
   "id": "ccbcbf84",
   "metadata": {},
   "outputs": [
    {
     "name": "stdout",
     "output_type": "stream",
     "text": [
      "Top 5 Categories:\n",
      "          Category  Score\n",
      "24         animals  69548\n",
      "31  healthy eating  69067\n",
      "36      technology  67472\n",
      "33         science  66043\n",
      "25         cooking  63982\n"
     ]
    }
   ],
   "source": [
    "import pandas as pd\n",
    "\n",
    "# Load the datasets\n",
    "content_df = pd.read_csv('Content pre-processed.csv')\n",
    "reaction_types_df = pd.read_csv('ReactionTypes pre-processed.csv')\n",
    "reactions_df = pd.read_csv('Reactions pre-processed.csv')\n",
    "\n",
    "# Merge the datasets\n",
    "# Step 1: Merge Reactions with Content\n",
    "merged_df = pd.merge(reactions_df, content_df, on='Content ID', how='left')\n",
    "\n",
    "# Step 2: Merge the result with Reaction Types\n",
    "final_df = pd.merge(merged_df, reaction_types_df, on='Reaction_Type', how='left')\n",
    "\n",
    "# Calculate total scores for each category\n",
    "category_scores = final_df.groupby('Category')['Score'].sum().reset_index()\n",
    "\n",
    "# Sort by score to find the top 5 categories\n",
    "top_5_categories = category_scores.sort_values(by='Score', ascending=False).head(5)\n",
    "\n",
    "# Output the final cleaned dataset and top 5 categories\n",
    "final_df.to_csv('final_cleaned_dataset.csv', index=False)\n",
    "top_5_categories.to_csv('top_5_categories.csv', index=False)\n",
    "\n",
    "# Display the top 5 categories\n",
    "print(\"Top 5 Categories:\")\n",
    "print(top_5_categories)"
   ]
  },
  {
   "cell_type": "code",
   "execution_count": null,
   "id": "616e3e76",
   "metadata": {},
   "outputs": [],
   "source": []
  }
 ],
 "metadata": {
  "kernelspec": {
   "display_name": "Python 3 (ipykernel)",
   "language": "python",
   "name": "python3"
  },
  "language_info": {
   "codemirror_mode": {
    "name": "ipython",
    "version": 3
   },
   "file_extension": ".py",
   "mimetype": "text/x-python",
   "name": "python",
   "nbconvert_exporter": "python",
   "pygments_lexer": "ipython3",
   "version": "3.11.5"
  }
 },
 "nbformat": 4,
 "nbformat_minor": 5
}
